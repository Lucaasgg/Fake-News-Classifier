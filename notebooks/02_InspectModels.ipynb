{
 "cells": [
  {
   "cell_type": "code",
   "execution_count": null,
   "id": "3c0dfcf6",
   "metadata": {},
   "outputs": [
    {
     "name": "stdout",
     "output_type": "stream",
     "text": [
      "TF-IDF vocab size: 5000\n",
      "Top 10 terms: ['donald', 'trump', 'wish', 'americans', 'happy', 'new', 'year', 'leave', 'instead', 'give']\n",
      "Model type: <class 'sklearn.calibration.CalibratedClassifierCV'>\n",
      "> Breaking news: Scientists discover a new species in the Amazon rainforest.\n",
      "  → Pred: fake (p=1.00)\n",
      "\n",
      "> You won't believe what this celebrity did last night!\n",
      "  → Pred: fake (p=1.00)\n",
      "\n"
     ]
    }
   ],
   "source": [
    "import joblib\n",
    "\n",
    "# 1) Carga los artefactos\n",
    "tfidf = joblib.load('../models/tfidf_vectorizer.joblib')\n",
    "model = joblib.load('../models/final_fake_news_model.joblib')\n",
    "\n",
    "# 2) Información rápida del vectorizador\n",
    "print(\"TF-IDF vocab size:\", len(tfidf.vocabulary_))\n",
    "print(\"Top 10 terms:\", list(tfidf.vocabulary_.keys())[:10])\n",
    "\n",
    "# 3) Información del modelo\n",
    "print(\"Model type:\", type(model))\n",
    "if hasattr(model, 'coef_'):\n",
    "    print(\"Coefficients shape:\", model.coef_.shape)\n",
    "    print(\"Intercept:\", model.intercept_)\n",
    "\n",
    "# 4) Prueba de predicción en texto de ejemplo\n",
    "sample = [\n",
    "    \"Breaking news: Scientists discover a new species in the Amazon rainforest.\",\n",
    "    \"You won't believe what this celebrity did last night!\"\n",
    "]\n",
    "Xs = tfidf.transform(sample)\n",
    "preds = model.predict(Xs)\n",
    "probs = model.predict_proba(Xs)\n",
    "for text, p, prob in zip(sample, preds, probs):\n",
    "    label = 'real' if p==1 else 'fake'\n",
    "    print(f\"> {text}\\n  → Pred: {label} (p={prob[p]:.2f})\\n\")\n"
   ]
  }
 ],
 "metadata": {
  "kernelspec": {
   "display_name": ".venv",
   "language": "python",
   "name": "python3"
  },
  "language_info": {
   "codemirror_mode": {
    "name": "ipython",
    "version": 3
   },
   "file_extension": ".py",
   "mimetype": "text/x-python",
   "name": "python",
   "nbconvert_exporter": "python",
   "pygments_lexer": "ipython3",
   "version": "3.13.5"
  }
 },
 "nbformat": 4,
 "nbformat_minor": 5
}
