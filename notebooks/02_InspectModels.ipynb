{
 "cells": [
  {
   "cell_type": "code",
   "execution_count": null,
   "id": "8a7e703f",
   "metadata": {},
   "outputs": [
    {
     "name": "stdout",
     "output_type": "stream",
     "text": [
      "---- Test provided examples ----\n",
      "📰 Breaking news: Scientists discover a new species in the Amazon rainforest.\n",
      "    → Predicted: fake (p_real=0.00, p_fake=1.00)\n",
      "\n",
      "📰 Local health officials report that vaccination rates have reached a record high this quarter.\n",
      "    → Predicted: fake (p_real=0.00, p_fake=1.00)\n",
      "\n",
      "📰 In an exclusive interview, the celebrity reveals her secret to eternal youth.\n",
      "    → Predicted: fake (p_real=0.00, p_fake=1.00)\n",
      "\n",
      "---- Sample from True.csv ----\n",
      "📰 WASHINGTON (Reuters) - The White House on Monday said the Justice Department was reviewing its options after a federal judge denied a request by President Donald Trump’s administration to enforce his ban on transgender troops while the government appeals an order blocking it. “The Department of Justice is currently reviewing the legal options to ensure the president’s directive is implemented,” White House spokeswoman Sarah Sanders told reporters. \n",
      "    → Predicted: real (p_real=1.00, p_fake=0.00)\n",
      "\n",
      "---- Sample from Fake.csv ----\n",
      "📰 Graham-Cassidy, the latest and worst in a line of Republican healthcare bills collectively dubbed  Trumpcare,  looks dead. Senator Susan Collins (R-ME) just joined Senators John McCain (R-AZ) and Rand Paul (R-KY) as one of the few to break party lines and refuse to vote for the bill. While not everyone is against the bill for the best of reasons, Susan Collins could not have been more clear about the many issues she had with the legislation.Here s her statement: First, both proposals make sweeping changes and cuts in the Medicaid program. Expert projections show that more than $1 trillion would be taken out of the Medicaid program between the years 2020 and 2036. This would have a devastating impact to a program that has been on the books for 50 years and provides health care to our most vulnerable citizens, including disabled children and low-income seniors.Second, both bills open the door for states to weaken protections for people with pre-existing conditions, such as asthma, cancer, heart disease, arthritis, and diabetes. Some states could allow higher premiums for individuals with pre-existing conditions, potentially making their insurance unaffordable. States could also limit specific categories of benefits for Affordable Care Act policies, such as eliminating coverage for mental health or substance abuse treatment.Third, physicians, patient advocates, insurers, and hospitals agree that both versions of this legislation would lead to higher premiums and reduced coverage for tens of millions of Americans.The CBO s analysis on the earlier version of the bill, incomplete though it is due to time constraints, confirms that this bill will have a substantially negative impact on the number of people covered by insurance.There has been some discussion that the new version of the bil includes additional money for my home state of Maine. The fact is, Maine still loses money under whichever version of the Graham-Cassidy bill we consider because the bills use what could be described as a  give with one hand, take with the other  distribution model. Huge Medicaid cuts down the road more than offset any short-term influx of money. But even more important, if Senators can adjust a funding formula over a weekend to help a single state, they could just as easily adjust that formula to hurt that state. This is simply not the way that we should be approaching an important and complex issue that must be handled thoughtfully and fairly for all Americans. There you have it   Susan Collins just hammered the final nail into Trumpcare s coffin.On September 30th, a special rule allowing Republicans to pass legislation with only a simple majority (50 votes and a tiebreak) will expire. After that, any healthcare legislation that Republicans want to pass will have to get at least eight Democrats on board.Republicans can t govern or even get their own party to agree, so good luck with that.Featured image via Alex Wong/Getty Images\n",
      "    → Predicted: fake (p_real=0.00, p_fake=1.00)\n",
      "\n"
     ]
    }
   ],
   "source": [
    "# 1) Imports\n",
    "import joblib\n",
    "import pandas as pd\n",
    "import matplotlib.pyplot as plt\n",
    "\n",
    "# 2) Load artifacts (sube un nivel porque estamos en notebooks/)\n",
    "tfidf = joblib.load('../models/tfidf_vectorizer.joblib')\n",
    "model = joblib.load('../models/final_fake_news_model.joblib')\n",
    "\n",
    "# 3) Function to classify new texts\n",
    "def classify_texts(texts, threshold=0.7):\n",
    "    \"\"\"\n",
    "    texts: list of strings\n",
    "    threshold: probability cutoff for labeling 'real' vs 'fake'\n",
    "    \"\"\"\n",
    "    X     = tfidf.transform(texts)\n",
    "    probs = model.predict_proba(X)[:, 1]\n",
    "    preds = (probs >= threshold).astype(int)\n",
    "    for txt, p, pr in zip(texts, probs, preds):\n",
    "        label = 'real' if pr == 1 else 'fake'\n",
    "        print(f\"📰 {txt}\\n    → Predicted: {label} (p_real={p:.2f}, p_fake={(1-p):.2f})\\n\")\n",
    "\n",
    "# 4) Example headlines to test\n",
    "to_check = [\n",
    "    \"Breaking news: Scientists discover a new species in the Amazon rainforest.\",\n",
    "    \"Local health officials report that vaccination rates have reached a record high this quarter.\",\n",
    "    \"In an exclusive interview, the celebrity reveals her secret to eternal youth.\"\n",
    "]\n",
    "\n",
    "# 5) Classify the example headlines with threshold = 0.7\n",
    "print(\"---- Test provided examples ----\")\n",
    "classify_texts(to_check, threshold=0.7)\n",
    "\n",
    "# 6) Verify on a true‐news sample from the dataset\n",
    "real_df      = pd.read_csv('../data/raw/True.csv')\n",
    "example_real = real_df['text'].sample(1).tolist()\n",
    "print(\"---- Sample from True.csv ----\")\n",
    "classify_texts(example_real, threshold=0.7)\n",
    "\n",
    "# 7) Verify on a fake‐news sample from the dataset\n",
    "fake_df      = pd.read_csv('../data/raw/Fake.csv')\n",
    "example_fake = fake_df['text'].sample(1).tolist()\n",
    "print(\"---- Sample from Fake.csv ----\")\n",
    "classify_texts(example_fake, threshold=0.7)"
   ]
  }
 ],
 "metadata": {
  "kernelspec": {
   "display_name": ".venv",
   "language": "python",
   "name": "python3"
  },
  "language_info": {
   "codemirror_mode": {
    "name": "ipython",
    "version": 3
   },
   "file_extension": ".py",
   "mimetype": "text/x-python",
   "name": "python",
   "nbconvert_exporter": "python",
   "pygments_lexer": "ipython3",
   "version": "3.13.5"
  }
 },
 "nbformat": 4,
 "nbformat_minor": 5
}
