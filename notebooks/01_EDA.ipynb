{
 "cells": [
  {
   "cell_type": "code",
   "execution_count": 1,
   "id": "77e77cba",
   "metadata": {},
   "outputs": [],
   "source": [
    "# 01. Exploratory Data Analysis (EDA)\n",
    "#**Dataset:** Fake and Real News  \n",
    "#**Author:** _Lucas Garcia_  \n",
    "#**Date:** _2025-07-04_\n"
   ]
  },
  {
   "cell_type": "code",
   "execution_count": 2,
   "id": "8ae18309",
   "metadata": {},
   "outputs": [],
   "source": [
    "# General libraries\n",
    "import os\n",
    "import pandas as pd\n",
    "import numpy as np\n",
    "\n",
    "# For plotting\n",
    "import matplotlib.pyplot as plt\n",
    "import seaborn as sns\n",
    "\n",
    "# Suppress warnings\n",
    "import warnings\n",
    "warnings.filterwarnings('ignore')\n",
    "\n",
    "# Plot settings\n",
    "%matplotlib inline\n",
    "sns.set(style='whitegrid')\n"
   ]
  },
  {
   "cell_type": "code",
   "execution_count": 3,
   "id": "9798fc36",
   "metadata": {},
   "outputs": [],
   "source": [
    "# Define file paths\n",
    "DATA_DIR = \"../data/raw\"\n",
    "FAKE_CSV = os.path.join(DATA_DIR, \"Fake.csv\")\n",
    "REAL_CSV = os.path.join(DATA_DIR, \"True.csv\")\n",
    "\n",
    "# Read CSV files\n",
    "fake_df = pd.read_csv(FAKE_CSV)\n",
    "real_df = pd.read_csv(REAL_CSV)\n",
    "\n",
    "# Add label column\n",
    "fake_df['label'] = 'fake'\n",
    "real_df['label'] = 'real'\n",
    "\n",
    "# Concatenate into a single DataFrame\n",
    "df = pd.concat([fake_df, real_df], ignore_index=True)\n",
    "df['full_text'] = df['title'].fillna('') + ' ' + df['text'].fillna('')\n"
   ]
  },
  {
   "cell_type": "code",
   "execution_count": 4,
   "id": "f85783a1",
   "metadata": {},
   "outputs": [
    {
     "name": "stdout",
     "output_type": "stream",
     "text": [
      "Fake shape: (23481, 5)\n",
      "Real shape: (21417, 5)\n",
      "Total shape: (44898, 6)\n"
     ]
    },
    {
     "data": {
      "text/html": [
       "<div>\n",
       "<style scoped>\n",
       "    .dataframe tbody tr th:only-of-type {\n",
       "        vertical-align: middle;\n",
       "    }\n",
       "\n",
       "    .dataframe tbody tr th {\n",
       "        vertical-align: top;\n",
       "    }\n",
       "\n",
       "    .dataframe thead th {\n",
       "        text-align: right;\n",
       "    }\n",
       "</style>\n",
       "<table border=\"1\" class=\"dataframe\">\n",
       "  <thead>\n",
       "    <tr style=\"text-align: right;\">\n",
       "      <th></th>\n",
       "      <th>title</th>\n",
       "      <th>text</th>\n",
       "      <th>subject</th>\n",
       "      <th>date</th>\n",
       "      <th>label</th>\n",
       "      <th>full_text</th>\n",
       "    </tr>\n",
       "  </thead>\n",
       "  <tbody>\n",
       "    <tr>\n",
       "      <th>0</th>\n",
       "      <td>Donald Trump Sends Out Embarrassing New Year’...</td>\n",
       "      <td>Donald Trump just couldn t wish all Americans ...</td>\n",
       "      <td>News</td>\n",
       "      <td>December 31, 2017</td>\n",
       "      <td>fake</td>\n",
       "      <td>Donald Trump Sends Out Embarrassing New Year’...</td>\n",
       "    </tr>\n",
       "    <tr>\n",
       "      <th>1</th>\n",
       "      <td>Drunk Bragging Trump Staffer Started Russian ...</td>\n",
       "      <td>House Intelligence Committee Chairman Devin Nu...</td>\n",
       "      <td>News</td>\n",
       "      <td>December 31, 2017</td>\n",
       "      <td>fake</td>\n",
       "      <td>Drunk Bragging Trump Staffer Started Russian ...</td>\n",
       "    </tr>\n",
       "    <tr>\n",
       "      <th>2</th>\n",
       "      <td>Sheriff David Clarke Becomes An Internet Joke...</td>\n",
       "      <td>On Friday, it was revealed that former Milwauk...</td>\n",
       "      <td>News</td>\n",
       "      <td>December 30, 2017</td>\n",
       "      <td>fake</td>\n",
       "      <td>Sheriff David Clarke Becomes An Internet Joke...</td>\n",
       "    </tr>\n",
       "    <tr>\n",
       "      <th>3</th>\n",
       "      <td>Trump Is So Obsessed He Even Has Obama’s Name...</td>\n",
       "      <td>On Christmas day, Donald Trump announced that ...</td>\n",
       "      <td>News</td>\n",
       "      <td>December 29, 2017</td>\n",
       "      <td>fake</td>\n",
       "      <td>Trump Is So Obsessed He Even Has Obama’s Name...</td>\n",
       "    </tr>\n",
       "    <tr>\n",
       "      <th>4</th>\n",
       "      <td>Pope Francis Just Called Out Donald Trump Dur...</td>\n",
       "      <td>Pope Francis used his annual Christmas Day mes...</td>\n",
       "      <td>News</td>\n",
       "      <td>December 25, 2017</td>\n",
       "      <td>fake</td>\n",
       "      <td>Pope Francis Just Called Out Donald Trump Dur...</td>\n",
       "    </tr>\n",
       "  </tbody>\n",
       "</table>\n",
       "</div>"
      ],
      "text/plain": [
       "                                               title  \\\n",
       "0   Donald Trump Sends Out Embarrassing New Year’...   \n",
       "1   Drunk Bragging Trump Staffer Started Russian ...   \n",
       "2   Sheriff David Clarke Becomes An Internet Joke...   \n",
       "3   Trump Is So Obsessed He Even Has Obama’s Name...   \n",
       "4   Pope Francis Just Called Out Donald Trump Dur...   \n",
       "\n",
       "                                                text subject  \\\n",
       "0  Donald Trump just couldn t wish all Americans ...    News   \n",
       "1  House Intelligence Committee Chairman Devin Nu...    News   \n",
       "2  On Friday, it was revealed that former Milwauk...    News   \n",
       "3  On Christmas day, Donald Trump announced that ...    News   \n",
       "4  Pope Francis used his annual Christmas Day mes...    News   \n",
       "\n",
       "                date label                                          full_text  \n",
       "0  December 31, 2017  fake   Donald Trump Sends Out Embarrassing New Year’...  \n",
       "1  December 31, 2017  fake   Drunk Bragging Trump Staffer Started Russian ...  \n",
       "2  December 30, 2017  fake   Sheriff David Clarke Becomes An Internet Joke...  \n",
       "3  December 29, 2017  fake   Trump Is So Obsessed He Even Has Obama’s Name...  \n",
       "4  December 25, 2017  fake   Pope Francis Just Called Out Donald Trump Dur...  "
      ]
     },
     "execution_count": 4,
     "metadata": {},
     "output_type": "execute_result"
    }
   ],
   "source": [
    "# Inspect shapes\n",
    "print(\"Fake shape:\", fake_df.shape)\n",
    "print(\"Real shape:\", real_df.shape)\n",
    "print(\"Total shape:\", df.shape)\n",
    "\n",
    "# Display first rows\n",
    "df.head(5)\n"
   ]
  },
  {
   "cell_type": "code",
   "execution_count": 5,
   "id": "2f5c93e5",
   "metadata": {},
   "outputs": [
    {
     "name": "stdout",
     "output_type": "stream",
     "text": [
      "Missing values per column:\n",
      " title        0\n",
      "text         0\n",
      "subject      0\n",
      "date         0\n",
      "label        0\n",
      "full_text    0\n",
      "dtype: int64\n",
      "Number of duplicate rows: 209\n"
     ]
    }
   ],
   "source": [
    "# Count missing values per column\n",
    "print(\"Missing values per column:\\n\", df.isnull().sum())\n",
    "\n",
    "# Count duplicate rows\n",
    "dup_count = df.duplicated().sum()\n",
    "print(f\"Number of duplicate rows: {dup_count}\")\n"
   ]
  },
  {
   "cell_type": "code",
   "execution_count": 6,
   "id": "b9a55150",
   "metadata": {},
   "outputs": [
    {
     "name": "stdout",
     "output_type": "stream",
     "text": [
      "label\n",
      "fake    23481\n",
      "real    21417\n",
      "Name: count, dtype: int64\n"
     ]
    },
    {
     "data": {
      "image/png": "[encoded data removed]",
      "text/plain": [
       "<Figure size 600x400 with 1 Axes>"
      ]
     },
     "metadata": {},
     "output_type": "display_data"
    }
   ],
   "source": [
    "# Count labels\n",
    "label_counts = df['label'].value_counts()\n",
    "print(label_counts)\n",
    "\n",
    "# Plot class distribution\n",
    "plt.figure(figsize=(6,4))\n",
    "sns.barplot(x=label_counts.index, y=label_counts.values)\n",
    "plt.title(\"Fake vs Real News Distribution\")\n",
    "plt.xlabel(\"Label\")\n",
    "plt.ylabel(\"Number of Articles\")\n",
    "plt.show()\n"
   ]
  },
  {
   "cell_type": "code",
   "execution_count": 7,
   "id": "1b5f2749",
   "metadata": {},
   "outputs": [
    {
     "data": {
      "text/plain": [
       "count    44898.000000\n",
       "mean       417.735757\n",
       "std        351.480777\n",
       "min          2.000000\n",
       "25%        216.000000\n",
       "50%        375.000000\n",
       "75%        526.000000\n",
       "max       8148.000000\n",
       "Name: full_text_len, dtype: float64"
      ]
     },
     "execution_count": 7,
     "metadata": {},
     "output_type": "execute_result"
    }
   ],
   "source": [
    "# Calculate combined text length (number of words in title+body)\n",
    "df['full_text_len'] = df['full_text'].apply(lambda t: len(str(t).split()))\n",
    "\n",
    "# Display descriptive statistics for the new field\n",
    "df['full_text_len'].describe()\n"
   ]
  },
  {
   "cell_type": "code",
   "execution_count": 8,
   "id": "f6a842ac",
   "metadata": {},
   "outputs": [
    {
     "name": "stderr",
     "output_type": "stream",
     "text": [
      "[nltk_data] Downloading package punkt to\n",
      "[nltk_data]     C:\\Users\\lukgg\\AppData\\Roaming\\nltk_data...\n",
      "[nltk_data]   Package punkt is already up-to-date!\n",
      "[nltk_data] Downloading package stopwords to\n",
      "[nltk_data]     C:\\Users\\lukgg\\AppData\\Roaming\\nltk_data...\n",
      "[nltk_data]   Package stopwords is already up-to-date!\n",
      "[nltk_data] Downloading package punkt_tab to\n",
      "[nltk_data]     C:\\Users\\lukgg\\AppData\\Roaming\\nltk_data...\n",
      "[nltk_data]   Package punkt_tab is already up-to-date!\n"
     ]
    },
    {
     "data": {
      "text/plain": [
       "True"
      ]
     },
     "execution_count": 8,
     "metadata": {},
     "output_type": "execute_result"
    }
   ],
   "source": [
    "import nltk\n",
    "\n",
    "# Download once, up front\n",
    "nltk.download('punkt')\n",
    "nltk.download('stopwords')\n",
    "nltk.download('punkt_tab')"
   ]
  },
  {
   "cell_type": "code",
   "execution_count": 9,
   "id": "5d4a36df",
   "metadata": {},
   "outputs": [
    {
     "data": {
      "text/html": [
       "<div>\n",
       "<style scoped>\n",
       "    .dataframe tbody tr th:only-of-type {\n",
       "        vertical-align: middle;\n",
       "    }\n",
       "\n",
       "    .dataframe tbody tr th {\n",
       "        vertical-align: top;\n",
       "    }\n",
       "\n",
       "    .dataframe thead th {\n",
       "        text-align: right;\n",
       "    }\n",
       "</style>\n",
       "<table border=\"1\" class=\"dataframe\">\n",
       "  <thead>\n",
       "    <tr style=\"text-align: right;\">\n",
       "      <th></th>\n",
       "      <th>full_text</th>\n",
       "      <th>clean_full_text</th>\n",
       "    </tr>\n",
       "  </thead>\n",
       "  <tbody>\n",
       "    <tr>\n",
       "      <th>0</th>\n",
       "      <td>Donald Trump Sends Out Embarrassing New Year’...</td>\n",
       "      <td>donald trump sends embarrassing new year eve m...</td>\n",
       "    </tr>\n",
       "    <tr>\n",
       "      <th>1</th>\n",
       "      <td>Drunk Bragging Trump Staffer Started Russian ...</td>\n",
       "      <td>drunk bragging trump staffer started russian c...</td>\n",
       "    </tr>\n",
       "    <tr>\n",
       "      <th>2</th>\n",
       "      <td>Sheriff David Clarke Becomes An Internet Joke...</td>\n",
       "      <td>sheriff david clarke becomes internet joke thr...</td>\n",
       "    </tr>\n",
       "  </tbody>\n",
       "</table>\n",
       "</div>"
      ],
      "text/plain": [
       "                                           full_text  \\\n",
       "0   Donald Trump Sends Out Embarrassing New Year’...   \n",
       "1   Drunk Bragging Trump Staffer Started Russian ...   \n",
       "2   Sheriff David Clarke Becomes An Internet Joke...   \n",
       "\n",
       "                                     clean_full_text  \n",
       "0  donald trump sends embarrassing new year eve m...  \n",
       "1  drunk bragging trump staffer started russian c...  \n",
       "2  sheriff david clarke becomes internet joke thr...  "
      ]
     },
     "execution_count": 9,
     "metadata": {},
     "output_type": "execute_result"
    }
   ],
   "source": [
    "import re\n",
    "from nltk.corpus import stopwords\n",
    "\n",
    "# Initialize stopwords set\n",
    "stop_words = set(stopwords.words('english'))\n",
    "\n",
    "def clean_text_no_stem(text):\n",
    "    # Lowercase\n",
    "    text = text.lower()\n",
    "    # Remove non-alphabetic characters (keep spaces)\n",
    "    text = re.sub(r'[^a-z\\s]', ' ', text)\n",
    "    # Split on whitespace\n",
    "    tokens = text.split()\n",
    "    # Remove stopwords\n",
    "    tokens = [t for t in tokens if t not in stop_words]\n",
    "    # Rejoin back to string\n",
    "    return ' '.join(tokens)\n",
    "\n",
    "# Apply cleaning without stemming\n",
    "df['clean_full_text'] = df['full_text'].apply(clean_text_no_stem)\n",
    "\n",
    "\n",
    "# Show a quick peek\n",
    "df[['full_text','clean_full_text']].head(3)\n"
   ]
  },
  {
   "cell_type": "code",
   "execution_count": 10,
   "id": "26f9a932",
   "metadata": {},
   "outputs": [
    {
     "name": "stdout",
     "output_type": "stream",
     "text": [
      "Train shape: (31428, 5000)\n",
      "Validation shape: (6735, 5000)\n",
      "Test shape: (6735, 5000)\n"
     ]
    }
   ],
   "source": [
    "from sklearn.feature_extraction.text import TfidfVectorizer\n",
    "from sklearn.model_selection import train_test_split\n",
    "\n",
    "# TF-IDF vectorization on the combined title+body\n",
    "tfidf = TfidfVectorizer(max_features=5000)  # adjust if needed\n",
    "X = tfidf.fit_transform(df['clean_full_text'])  \n",
    "\n",
    "# Labels: map fake/real a 0/1\n",
    "y = df['label'].map({'fake': 0, 'real': 1})\n",
    "\n",
    "# Split train/validation/test: 70/15/15\n",
    "X_train, X_temp, y_train, y_temp = train_test_split(\n",
    "    X, y, test_size=0.30, random_state=42, stratify=y\n",
    ")\n",
    "X_val, X_test, y_val, y_test = train_test_split(\n",
    "    X_temp, y_temp, test_size=0.50, random_state=42, stratify=y_temp\n",
    ")\n",
    "\n",
    "print(\"Train shape:\", X_train.shape)\n",
    "print(\"Validation shape:\", X_val.shape)\n",
    "print(\"Test shape:\", X_test.shape)\n"
   ]
  },
  {
   "cell_type": "code",
   "execution_count": 11,
   "id": "434a0a89",
   "metadata": {},
   "outputs": [
    {
     "name": "stdout",
     "output_type": "stream",
     "text": [
      "Naive Bayes Validation Accuracy: 0.9330363771343727\n",
      "Naive Bayes Validation F1-score: 0.9299363057324841\n",
      "\n",
      "Classification Report:\n",
      "               precision    recall  f1-score   support\n",
      "\n",
      "           0       0.94      0.93      0.94      3522\n",
      "           1       0.93      0.93      0.93      3213\n",
      "\n",
      "    accuracy                           0.93      6735\n",
      "   macro avg       0.93      0.93      0.93      6735\n",
      "weighted avg       0.93      0.93      0.93      6735\n",
      "\n",
      "Confusion Matrix:\n",
      " [[3291  231]\n",
      " [ 220 2993]]\n"
     ]
    }
   ],
   "source": [
    "# Baseline model: Multinomial Naive Bayes\n",
    "from sklearn.naive_bayes import MultinomialNB\n",
    "from sklearn.metrics import accuracy_score, classification_report, confusion_matrix, f1_score\n",
    "\n",
    "# Instantiate and train\n",
    "nb = MultinomialNB()\n",
    "nb.fit(X_train, y_train)\n",
    "\n",
    "# Predict on validation set\n",
    "y_pred_nb = nb.predict(X_val)\n",
    "\n",
    "# Metrics\n",
    "print(\"Naive Bayes Validation Accuracy:\", accuracy_score(y_val, y_pred_nb))\n",
    "print(\"Naive Bayes Validation F1-score:\", f1_score(y_val, y_pred_nb))\n",
    "print(\"\\nClassification Report:\\n\", classification_report(y_val, y_pred_nb))\n",
    "print(\"Confusion Matrix:\\n\", confusion_matrix(y_val, y_pred_nb))\n"
   ]
  },
  {
   "cell_type": "code",
   "execution_count": 12,
   "id": "e56299ef",
   "metadata": {},
   "outputs": [
    {
     "name": "stdout",
     "output_type": "stream",
     "text": [
      "Logistic Regression Validation Accuracy: 0.9881217520415738\n",
      "Logistic Regression Validation F1-score: 0.9875930521091811\n",
      "\n",
      "Classification Report:\n",
      "               precision    recall  f1-score   support\n",
      "\n",
      "           0       0.99      0.99      0.99      3522\n",
      "           1       0.98      0.99      0.99      3213\n",
      "\n",
      "    accuracy                           0.99      6735\n",
      "   macro avg       0.99      0.99      0.99      6735\n",
      "weighted avg       0.99      0.99      0.99      6735\n",
      "\n",
      "Confusion Matrix:\n",
      " [[3471   51]\n",
      " [  29 3184]]\n"
     ]
    }
   ],
   "source": [
    "# Baseline model: Logistic Regression\n",
    "from sklearn.linear_model import LogisticRegression\n",
    "\n",
    "# Instantiate and train\n",
    "lr = LogisticRegression(max_iter=1000)\n",
    "lr.fit(X_train, y_train)\n",
    "\n",
    "# Predict on validation set\n",
    "y_pred_lr = lr.predict(X_val)\n",
    "\n",
    "# Metrics\n",
    "print(\"Logistic Regression Validation Accuracy:\", accuracy_score(y_val, y_pred_lr))\n",
    "print(\"Logistic Regression Validation F1-score:\", f1_score(y_val, y_pred_lr))\n",
    "print(\"\\nClassification Report:\\n\", classification_report(y_val, y_pred_lr))\n",
    "print(\"Confusion Matrix:\\n\", confusion_matrix(y_val, y_pred_lr))\n"
   ]
  },
  {
   "cell_type": "code",
   "execution_count": 13,
   "id": "ed963e22",
   "metadata": {},
   "outputs": [
    {
     "name": "stdout",
     "output_type": "stream",
     "text": [
      "Fitting 5 folds for each of 8 candidates, totalling 40 fits\n",
      "Best params: {'C': 10, 'penalty': 'l1', 'solver': 'liblinear'}\n",
      "Best CV F1-score: 0.995330419977851\n"
     ]
    }
   ],
   "source": [
    "from sklearn.model_selection import GridSearchCV\n",
    "\n",
    "# Define parameter grid\n",
    "param_grid = {\n",
    "    'C': [0.01, 0.1, 1, 10],\n",
    "    'penalty': ['l1', 'l2'],\n",
    "    'solver': ['liblinear'],   # compatible con l1 y l2\n",
    "}\n",
    "\n",
    "# Set up GridSearchCV\n",
    "grid_lr = GridSearchCV(\n",
    "    estimator=LogisticRegression(max_iter=1000),\n",
    "    param_grid=param_grid,\n",
    "    scoring='f1',\n",
    "    cv=5,\n",
    "    n_jobs=-1,\n",
    "    verbose=1\n",
    ")\n",
    "\n",
    "# Run grid search\n",
    "grid_lr.fit(X_train, y_train)\n",
    "\n",
    "# Best parameters and score\n",
    "print(\"Best params:\", grid_lr.best_params_)\n",
    "print(\"Best CV F1-score:\", grid_lr.best_score_)\n"
   ]
  },
  {
   "cell_type": "code",
   "execution_count": 14,
   "id": "4d0047c9",
   "metadata": {},
   "outputs": [
    {
     "name": "stdout",
     "output_type": "stream",
     "text": [
      "Tuned LR Validation F1-score: 0.996571072319202\n",
      "Tuned LR Test Accuracy: 0.9967334818114328\n",
      "Tuned LR Test F1-score: 0.9965732087227415\n",
      "\n",
      "Test Classification Report:\n",
      "               precision    recall  f1-score   support\n",
      "\n",
      "           0       1.00      1.00      1.00      3523\n",
      "           1       1.00      1.00      1.00      3212\n",
      "\n",
      "    accuracy                           1.00      6735\n",
      "   macro avg       1.00      1.00      1.00      6735\n",
      "weighted avg       1.00      1.00      1.00      6735\n",
      "\n"
     ]
    }
   ],
   "source": [
    "# Use the best estimator from grid search\n",
    "best_lr = grid_lr.best_estimator_\n",
    "\n",
    "# Validation metrics\n",
    "y_val_pred = best_lr.predict(X_val)\n",
    "print(\"Tuned LR Validation F1-score:\", f1_score(y_val, y_val_pred))\n",
    "\n",
    "# Test metrics\n",
    "y_test_pred = best_lr.predict(X_test)\n",
    "print(\"Tuned LR Test Accuracy:\", accuracy_score(y_test, y_test_pred))\n",
    "print(\"Tuned LR Test F1-score:\", f1_score(y_test, y_test_pred))\n",
    "print(\"\\nTest Classification Report:\\n\", classification_report(y_test, y_test_pred))\n"
   ]
  },
  {
   "cell_type": "code",
   "execution_count": null,
   "id": "83477114",
   "metadata": {},
   "outputs": [
    {
     "data": {
      "image/png": "[encoded data removed]",
      "text/plain": [
       "<Figure size 600x300 with 1 Axes>"
      ]
     },
     "metadata": {},
     "output_type": "display_data"
    },
    {
     "data": {
      "image/png": "[encoded data removed]",
      "text/plain": [
       "<Figure size 600x600 with 1 Axes>"
      ]
     },
     "metadata": {},
     "output_type": "display_data"
    },
    {
     "name": "stdout",
     "output_type": "stream",
     "text": [
      "Using threshold = 0.7\n",
      "Calibrated Test F1-score: 0.9967294813891917\n",
      "\n",
      "Test Classification Report:\n",
      "               precision    recall  f1-score   support\n",
      "\n",
      "           0       1.00      1.00      1.00      3523\n",
      "           1       1.00      1.00      1.00      3212\n",
      "\n",
      "    accuracy                           1.00      6735\n",
      "   macro avg       1.00      1.00      1.00      6735\n",
      "weighted avg       1.00      1.00      1.00      6735\n",
      "\n",
      "fake (p=0.00): The Federal Reserve raised interest rates by 25 basis points today, marking the third consecutive hike this year.\n",
      "fake (p=0.00): Local health officials report that vaccination rates have reached a record high this quarter.\n"
     ]
    }
   ],
   "source": [
    "# 15. Calibration of the best Logistic Regression\n",
    "from sklearn.calibration import CalibratedClassifierCV, calibration_curve\n",
    "import matplotlib.pyplot as plt\n",
    "\n",
    "# Fit Platt scaling on the validation set\n",
    "calibrator = CalibratedClassifierCV(best_lr, method='isotonic', cv='prefit')\n",
    "\n",
    "calibrator.fit(X_val, y_val)\n",
    "\n",
    "\n",
    "probs_val = calibrator.predict_proba(X_val)[:,1]\n",
    "plt.figure(figsize=(6,3))\n",
    "plt.hist(probs_val, bins=20, edgecolor='k')\n",
    "plt.title(\"Distribution of Calibrated Probabilities on Validation Set\")\n",
    "plt.xlabel(\"Predicted prob. of real\")\n",
    "plt.ylabel(\"Count\")\n",
    "plt.show()\n",
    "\n",
    "# Plot reliability diagram\n",
    "prob_true, prob_pred = calibration_curve(\n",
    "    y_val,\n",
    "    calibrator.predict_proba(X_val)[:,1],\n",
    "    n_bins=10\n",
    ")\n",
    "plt.figure(figsize=(6,6))\n",
    "plt.plot(prob_pred, prob_true, 's-', label=\"Calibrated\")\n",
    "plt.plot([0,1], [0,1], 'k--', label=\"Perfectly calibrated\")\n",
    "plt.xlabel(\"Mean predicted probability\")\n",
    "plt.ylabel(\"Fraction of positives\")\n",
    "plt.title(\"Calibration Curve\")\n",
    "plt.legend()\n",
    "plt.show()\n",
    "\n",
    " # 16. Evaluate the calibrated model on the test set\n",
    "from sklearn.metrics import f1_score, classification_report\n",
    "\n",
    "threshold = 0.7\n",
    "y_test_prob_cal = calibrator.predict_proba(X_test)[:,1]\n",
    "y_test_pred_cal = (y_test_prob_cal >= threshold).astype(int)\n",
    "\n",
    "\n",
    "print(f\"Using threshold = {threshold}\")\n",
    "print(\"Calibrated Test F1-score:\", f1_score(y_test, y_test_pred_cal))\n",
    "print(\"\\nTest Classification Report:\\n\", classification_report(y_test, y_test_pred_cal))\n",
    "# 17. Try the “real” examples again with the calibrated model\n",
    "samples = [\n",
    "     \"The Federal Reserve raised interest rates by 25 basis points today, marking the third consecutive hike this year.\",\n",
    "     \"Local health officials report that vaccination rates have reached a record high this quarter.\"\n",
    " ]\n",
    "probs = calibrator.predict_proba(tfidf.transform(samples))[:,1]\n",
    "\n",
    "for text, p in zip(samples, probs):\n",
    "    # we use the same threshold as before\n",
    "    label = 'real' if p >= threshold else 'fake'\n",
    "    print(f\"{label} (p={p:.2f}): {text}\")"
   ]
  },
  {
   "cell_type": "code",
   "execution_count": 16,
   "id": "00952082",
   "metadata": {},
   "outputs": [
    {
     "data": {
      "image/png": "[encoded data removed]",
      "text/plain": [
       "<Figure size 640x480 with 2 Axes>"
      ]
     },
     "metadata": {},
     "output_type": "display_data"
    },
    {
     "data": {
      "image/png": "[encoded data removed]",
      "text/plain": [
       "<Figure size 640x480 with 1 Axes>"
      ]
     },
     "metadata": {},
     "output_type": "display_data"
    }
   ],
   "source": [
    "from sklearn.metrics import ConfusionMatrixDisplay, RocCurveDisplay, roc_curve, auc\n",
    "\n",
    "final_model = calibrator \n",
    "# 1) Confusion matrix (normalized)\n",
    "ConfusionMatrixDisplay.from_estimator(\n",
    "    final_model,\n",
    "    X_test,\n",
    "    y_test,\n",
    "    display_labels=['fake', 'real'],\n",
    "    cmap=plt.cm.Blues,\n",
    "    normalize='true'\n",
    ")\n",
    "plt.title(\"Normalized Confusion Matrix\")\n",
    "plt.show()\n",
    "\n",
    "# 2) ROC curve and AUC\n",
    "# First get probabilities and compute fpr/tpr/auc\n",
    "y_prob = final_model.predict_proba(X_test)[:, 1]\n",
    "fpr, tpr, _ = roc_curve(y_test, y_prob)\n",
    "roc_auc = auc(fpr, tpr)\n",
    "\n",
    "# Plot ROC\n",
    "plt.figure()\n",
    "plt.plot(fpr, tpr, label=f\"AUC = {roc_auc:.2f}\")\n",
    "plt.plot([0,1], [0,1], 'k--')\n",
    "plt.xlabel(\"False Positive Rate\")\n",
    "plt.ylabel(\"True Positive Rate\")\n",
    "plt.title(\"ROC Curve\")\n",
    "plt.legend(loc=\"lower right\")\n",
    "plt.show()\n"
   ]
  },
  {
   "cell_type": "code",
   "execution_count": 17,
   "id": "e78dde97",
   "metadata": {},
   "outputs": [],
   "source": [
    "import os\n",
    "\n",
    "# Create models directory if it doesn't exist\n",
    "os.makedirs('../models', exist_ok=True)\n",
    "\n"
   ]
  },
  {
   "cell_type": "code",
   "execution_count": 18,
   "id": "0301412f",
   "metadata": {},
   "outputs": [
    {
     "data": {
      "text/plain": [
       "['../models/final_fake_news_model.joblib']"
      ]
     },
     "execution_count": 18,
     "metadata": {},
     "output_type": "execute_result"
    }
   ],
   "source": [
    "import joblib\n",
    "\n",
    "# Save TF-IDF vectorizer\n",
    "joblib.dump(tfidf,    '../models/tfidf_vectorizer.joblib')\n",
    "\n",
    "# Save final model\n",
    "joblib.dump(final_model, '../models/final_fake_news_model.joblib')"
   ]
  }
 ],
 "metadata": {
  "kernelspec": {
   "display_name": "Python 3 (ipykernel)",
   "language": "python",
   "name": "python3"
  },
  "language_info": {
   "codemirror_mode": {
    "name": "ipython",
    "version": 3
   },
   "file_extension": ".py",
   "mimetype": "text/x-python",
   "name": "python",
   "nbconvert_exporter": "python",
   "pygments_lexer": "ipython3",
   "version": "3.13.5"
  }
 },
 "nbformat": 4,
 "nbformat_minor": 5
}
