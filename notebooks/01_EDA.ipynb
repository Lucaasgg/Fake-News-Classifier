{
 "cells": [
  {
   "cell_type": "code",
   "execution_count": 1,
   "id": "77e77cba",
   "metadata": {},
   "outputs": [],
   "source": [
    "# 01. Exploratory Data Analysis (EDA)\n",
    "#**Dataset:** Fake and Real News  \n",
    "#**Author:** _Lucas Garcia_  \n",
    "#**Date:** _2025-07-04_\n"
   ]
  },
  {
   "cell_type": "code",
   "execution_count": 2,
   "id": "8ae18309",
   "metadata": {},
   "outputs": [],
   "source": [
    "# General libraries\n",
    "import os\n",
    "import pandas as pd\n",
    "import numpy as np\n",
    "\n",
    "# For plotting\n",
    "import matplotlib.pyplot as plt\n",
    "import seaborn as sns\n",
    "\n",
    "# Suppress warnings\n",
    "import warnings\n",
    "warnings.filterwarnings('ignore')\n",
    "\n",
    "# Plot settings\n",
    "%matplotlib inline\n",
    "sns.set(style='whitegrid')\n"
   ]
  },
  {
   "cell_type": "code",
   "execution_count": 3,
   "id": "9798fc36",
   "metadata": {},
   "outputs": [],
   "source": [
    "# Define file paths\n",
    "DATA_DIR = \"../data/raw\"\n",
    "FAKE_CSV = os.path.join(DATA_DIR, \"Fake.csv\")\n",
    "REAL_CSV = os.path.join(DATA_DIR, \"True.csv\")\n",
    "\n",
    "# Read CSV files\n",
    "fake_df = pd.read_csv(FAKE_CSV)\n",
    "real_df = pd.read_csv(REAL_CSV)\n",
    "\n",
    "# Add label column\n",
    "fake_df['label'] = 'fake'\n",
    "real_df['label'] = 'real'\n",
    "\n",
    "# Concatenate into a single DataFrame\n",
    "df = pd.concat([fake_df, real_df], ignore_index=True)\n"
   ]
  },
  {
   "cell_type": "code",
   "execution_count": 4,
   "id": "f85783a1",
   "metadata": {},
   "outputs": [
    {
     "name": "stdout",
     "output_type": "stream",
     "text": [
      "Fake shape: (23481, 5)\n",
      "Real shape: (21417, 5)\n",
      "Total shape: (44898, 5)\n"
     ]
    },
    {
     "data": {
      "text/html": [
       "<div>\n",
       "<style scoped>\n",
       "    .dataframe tbody tr th:only-of-type {\n",
       "        vertical-align: middle;\n",
       "    }\n",
       "\n",
       "    .dataframe tbody tr th {\n",
       "        vertical-align: top;\n",
       "    }\n",
       "\n",
       "    .dataframe thead th {\n",
       "        text-align: right;\n",
       "    }\n",
       "</style>\n",
       "<table border=\"1\" class=\"dataframe\">\n",
       "  <thead>\n",
       "    <tr style=\"text-align: right;\">\n",
       "      <th></th>\n",
       "      <th>title</th>\n",
       "      <th>text</th>\n",
       "      <th>subject</th>\n",
       "      <th>date</th>\n",
       "      <th>label</th>\n",
       "    </tr>\n",
       "  </thead>\n",
       "  <tbody>\n",
       "    <tr>\n",
       "      <th>0</th>\n",
       "      <td>Donald Trump Sends Out Embarrassing New Year’...</td>\n",
       "      <td>Donald Trump just couldn t wish all Americans ...</td>\n",
       "      <td>News</td>\n",
       "      <td>December 31, 2017</td>\n",
       "      <td>fake</td>\n",
       "    </tr>\n",
       "    <tr>\n",
       "      <th>1</th>\n",
       "      <td>Drunk Bragging Trump Staffer Started Russian ...</td>\n",
       "      <td>House Intelligence Committee Chairman Devin Nu...</td>\n",
       "      <td>News</td>\n",
       "      <td>December 31, 2017</td>\n",
       "      <td>fake</td>\n",
       "    </tr>\n",
       "    <tr>\n",
       "      <th>2</th>\n",
       "      <td>Sheriff David Clarke Becomes An Internet Joke...</td>\n",
       "      <td>On Friday, it was revealed that former Milwauk...</td>\n",
       "      <td>News</td>\n",
       "      <td>December 30, 2017</td>\n",
       "      <td>fake</td>\n",
       "    </tr>\n",
       "    <tr>\n",
       "      <th>3</th>\n",
       "      <td>Trump Is So Obsessed He Even Has Obama’s Name...</td>\n",
       "      <td>On Christmas day, Donald Trump announced that ...</td>\n",
       "      <td>News</td>\n",
       "      <td>December 29, 2017</td>\n",
       "      <td>fake</td>\n",
       "    </tr>\n",
       "    <tr>\n",
       "      <th>4</th>\n",
       "      <td>Pope Francis Just Called Out Donald Trump Dur...</td>\n",
       "      <td>Pope Francis used his annual Christmas Day mes...</td>\n",
       "      <td>News</td>\n",
       "      <td>December 25, 2017</td>\n",
       "      <td>fake</td>\n",
       "    </tr>\n",
       "  </tbody>\n",
       "</table>\n",
       "</div>"
      ],
      "text/plain": [
       "                                               title  \\\n",
       "0   Donald Trump Sends Out Embarrassing New Year’...   \n",
       "1   Drunk Bragging Trump Staffer Started Russian ...   \n",
       "2   Sheriff David Clarke Becomes An Internet Joke...   \n",
       "3   Trump Is So Obsessed He Even Has Obama’s Name...   \n",
       "4   Pope Francis Just Called Out Donald Trump Dur...   \n",
       "\n",
       "                                                text subject  \\\n",
       "0  Donald Trump just couldn t wish all Americans ...    News   \n",
       "1  House Intelligence Committee Chairman Devin Nu...    News   \n",
       "2  On Friday, it was revealed that former Milwauk...    News   \n",
       "3  On Christmas day, Donald Trump announced that ...    News   \n",
       "4  Pope Francis used his annual Christmas Day mes...    News   \n",
       "\n",
       "                date label  \n",
       "0  December 31, 2017  fake  \n",
       "1  December 31, 2017  fake  \n",
       "2  December 30, 2017  fake  \n",
       "3  December 29, 2017  fake  \n",
       "4  December 25, 2017  fake  "
      ]
     },
     "execution_count": 4,
     "metadata": {},
     "output_type": "execute_result"
    }
   ],
   "source": [
    "# Inspect shapes\n",
    "print(\"Fake shape:\", fake_df.shape)\n",
    "print(\"Real shape:\", real_df.shape)\n",
    "print(\"Total shape:\", df.shape)\n",
    "\n",
    "# Display first rows\n",
    "df.head(5)\n"
   ]
  },
  {
   "cell_type": "code",
   "execution_count": 5,
   "id": "2f5c93e5",
   "metadata": {},
   "outputs": [
    {
     "name": "stdout",
     "output_type": "stream",
     "text": [
      "Missing values per column:\n",
      " title      0\n",
      "text       0\n",
      "subject    0\n",
      "date       0\n",
      "label      0\n",
      "dtype: int64\n",
      "Number of duplicate rows: 209\n"
     ]
    }
   ],
   "source": [
    "# Count missing values per column\n",
    "print(\"Missing values per column:\\n\", df.isnull().sum())\n",
    "\n",
    "# Count duplicate rows\n",
    "dup_count = df.duplicated().sum()\n",
    "print(f\"Number of duplicate rows: {dup_count}\")\n"
   ]
  },
  {
   "cell_type": "code",
   "execution_count": 6,
   "id": "b9a55150",
   "metadata": {},
   "outputs": [
    {
     "name": "stdout",
     "output_type": "stream",
     "text": [
      "label\n",
      "fake    23481\n",
      "real    21417\n",
      "Name: count, dtype: int64\n"
     ]
    },
    {
     "data": {
      "image/png": "[encoded data removed]",
      "text/plain": [
       "<Figure size 600x400 with 1 Axes>"
      ]
     },
     "metadata": {},
     "output_type": "display_data"
    }
   ],
   "source": [
    "# Count labels\n",
    "label_counts = df['label'].value_counts()\n",
    "print(label_counts)\n",
    "\n",
    "# Plot class distribution\n",
    "plt.figure(figsize=(6,4))\n",
    "sns.barplot(x=label_counts.index, y=label_counts.values)\n",
    "plt.title(\"Fake vs Real News Distribution\")\n",
    "plt.xlabel(\"Label\")\n",
    "plt.ylabel(\"Number of Articles\")\n",
    "plt.show()\n"
   ]
  },
  {
   "cell_type": "code",
   "execution_count": 7,
   "id": "1b5f2749",
   "metadata": {},
   "outputs": [
    {
     "data": {
      "text/plain": [
       "count    44898.000000\n",
       "mean       405.282284\n",
       "std        351.265595\n",
       "min          0.000000\n",
       "25%        203.000000\n",
       "50%        362.000000\n",
       "75%        513.000000\n",
       "max       8135.000000\n",
       "Name: text_len, dtype: float64"
      ]
     },
     "execution_count": 7,
     "metadata": {},
     "output_type": "execute_result"
    }
   ],
   "source": [
    "# Calculate text length (number of words)\n",
    "df['text_len'] = df['text'].apply(lambda t: len(str(t).split()))\n",
    "\n",
    "# Display descriptive statistics\n",
    "df['text_len'].describe()\n"
   ]
  },
  {
   "cell_type": "code",
   "execution_count": 8,
   "id": "f6a842ac",
   "metadata": {},
   "outputs": [
    {
     "name": "stderr",
     "output_type": "stream",
     "text": [
      "[nltk_data] Downloading package punkt to\n",
      "[nltk_data]     C:\\Users\\lukgg\\AppData\\Roaming\\nltk_data...\n",
      "[nltk_data]   Package punkt is already up-to-date!\n",
      "[nltk_data] Downloading package stopwords to\n",
      "[nltk_data]     C:\\Users\\lukgg\\AppData\\Roaming\\nltk_data...\n",
      "[nltk_data]   Package stopwords is already up-to-date!\n",
      "[nltk_data] Downloading package punkt_tab to\n",
      "[nltk_data]     C:\\Users\\lukgg\\AppData\\Roaming\\nltk_data...\n",
      "[nltk_data]   Package punkt_tab is already up-to-date!\n"
     ]
    },
    {
     "data": {
      "text/plain": [
       "True"
      ]
     },
     "execution_count": 8,
     "metadata": {},
     "output_type": "execute_result"
    }
   ],
   "source": [
    "import nltk\n",
    "\n",
    "# Download once, up front\n",
    "nltk.download('punkt')\n",
    "nltk.download('stopwords')\n",
    "nltk.download('punkt_tab')"
   ]
  },
  {
   "cell_type": "code",
   "execution_count": 9,
   "id": "5d4a36df",
   "metadata": {},
   "outputs": [
    {
     "data": {
      "text/html": [
       "<div>\n",
       "<style scoped>\n",
       "    .dataframe tbody tr th:only-of-type {\n",
       "        vertical-align: middle;\n",
       "    }\n",
       "\n",
       "    .dataframe tbody tr th {\n",
       "        vertical-align: top;\n",
       "    }\n",
       "\n",
       "    .dataframe thead th {\n",
       "        text-align: right;\n",
       "    }\n",
       "</style>\n",
       "<table border=\"1\" class=\"dataframe\">\n",
       "  <thead>\n",
       "    <tr style=\"text-align: right;\">\n",
       "      <th></th>\n",
       "      <th>text</th>\n",
       "      <th>clean_text</th>\n",
       "    </tr>\n",
       "  </thead>\n",
       "  <tbody>\n",
       "    <tr>\n",
       "      <th>0</th>\n",
       "      <td>Donald Trump just couldn t wish all Americans ...</td>\n",
       "      <td>donald trump wish americans happy new year lea...</td>\n",
       "    </tr>\n",
       "    <tr>\n",
       "      <th>1</th>\n",
       "      <td>House Intelligence Committee Chairman Devin Nu...</td>\n",
       "      <td>house intelligence committee chairman devin nu...</td>\n",
       "    </tr>\n",
       "    <tr>\n",
       "      <th>2</th>\n",
       "      <td>On Friday, it was revealed that former Milwauk...</td>\n",
       "      <td>friday revealed former milwaukee sheriff david...</td>\n",
       "    </tr>\n",
       "  </tbody>\n",
       "</table>\n",
       "</div>"
      ],
      "text/plain": [
       "                                                text  \\\n",
       "0  Donald Trump just couldn t wish all Americans ...   \n",
       "1  House Intelligence Committee Chairman Devin Nu...   \n",
       "2  On Friday, it was revealed that former Milwauk...   \n",
       "\n",
       "                                          clean_text  \n",
       "0  donald trump wish americans happy new year lea...  \n",
       "1  house intelligence committee chairman devin nu...  \n",
       "2  friday revealed former milwaukee sheriff david...  "
      ]
     },
     "execution_count": 9,
     "metadata": {},
     "output_type": "execute_result"
    }
   ],
   "source": [
    "import re\n",
    "from nltk.corpus import stopwords\n",
    "\n",
    "# Initialize stopwords set\n",
    "stop_words = set(stopwords.words('english'))\n",
    "\n",
    "def clean_text_no_stem(text):\n",
    "    # Lowercase\n",
    "    text = text.lower()\n",
    "    # Remove non-alphabetic characters (keep spaces)\n",
    "    text = re.sub(r'[^a-z\\s]', ' ', text)\n",
    "    # Split on whitespace\n",
    "    tokens = text.split()\n",
    "    # Remove stopwords\n",
    "    tokens = [t for t in tokens if t not in stop_words]\n",
    "    # Rejoin back to string\n",
    "    return ' '.join(tokens)\n",
    "\n",
    "# Apply cleaning without stemming\n",
    "df['clean_text'] = df['text'].apply(clean_text_no_stem)\n",
    "\n",
    "# Show a quick peek\n",
    "df[['text','clean_text']].head(3)\n"
   ]
  },
  {
   "cell_type": "code",
   "execution_count": 10,
   "id": "26f9a932",
   "metadata": {},
   "outputs": [
    {
     "name": "stdout",
     "output_type": "stream",
     "text": [
      "Train shape: (31428, 5000)\n",
      "Validation shape: (6735, 5000)\n",
      "Test shape: (6735, 5000)\n"
     ]
    }
   ],
   "source": [
    "from sklearn.feature_extraction.text import TfidfVectorizer\n",
    "from sklearn.model_selection import train_test_split\n",
    "\n",
    "# TF-IDF vectorization\n",
    "tfidf = TfidfVectorizer(max_features=5000)   # ajusta max_features si quieres\n",
    "X = tfidf.fit_transform(df['clean_text'])\n",
    "y = df['label'].map({'fake':0, 'real':1})    # convierte a 0/1\n",
    "\n",
    "# Split train/validation/test: 70/15/15\n",
    "X_train, X_temp, y_train, y_temp = train_test_split(\n",
    "    X, y, test_size=0.30, random_state=42, stratify=y)\n",
    "\n",
    "X_val, X_test, y_val, y_test = train_test_split(\n",
    "    X_temp, y_temp, test_size=0.50, random_state=42, stratify=y_temp)\n",
    "\n",
    "print(\"Train shape:\", X_train.shape)\n",
    "print(\"Validation shape:\", X_val.shape)\n",
    "print(\"Test shape:\", X_test.shape)\n"
   ]
  },
  {
   "cell_type": "code",
   "execution_count": 11,
   "id": "434a0a89",
   "metadata": {},
   "outputs": [
    {
     "name": "stdout",
     "output_type": "stream",
     "text": [
      "Naive Bayes Validation Accuracy: 0.9317000742390498\n",
      "Naive Bayes Validation F1-score: 0.9285270354257302\n",
      "\n",
      "Classification Report:\n",
      "               precision    recall  f1-score   support\n",
      "\n",
      "           0       0.94      0.93      0.93      3522\n",
      "           1       0.93      0.93      0.93      3213\n",
      "\n",
      "    accuracy                           0.93      6735\n",
      "   macro avg       0.93      0.93      0.93      6735\n",
      "weighted avg       0.93      0.93      0.93      6735\n",
      "\n",
      "Confusion Matrix:\n",
      " [[3287  235]\n",
      " [ 225 2988]]\n"
     ]
    }
   ],
   "source": [
    "# Baseline model: Multinomial Naive Bayes\n",
    "from sklearn.naive_bayes import MultinomialNB\n",
    "from sklearn.metrics import accuracy_score, classification_report, confusion_matrix, f1_score\n",
    "\n",
    "# Instantiate and train\n",
    "nb = MultinomialNB()\n",
    "nb.fit(X_train, y_train)\n",
    "\n",
    "# Predict on validation set\n",
    "y_pred_nb = nb.predict(X_val)\n",
    "\n",
    "# Metrics\n",
    "print(\"Naive Bayes Validation Accuracy:\", accuracy_score(y_val, y_pred_nb))\n",
    "print(\"Naive Bayes Validation F1-score:\", f1_score(y_val, y_pred_nb))\n",
    "print(\"\\nClassification Report:\\n\", classification_report(y_val, y_pred_nb))\n",
    "print(\"Confusion Matrix:\\n\", confusion_matrix(y_val, y_pred_nb))\n"
   ]
  },
  {
   "cell_type": "code",
   "execution_count": 12,
   "id": "e56299ef",
   "metadata": {},
   "outputs": [
    {
     "name": "stdout",
     "output_type": "stream",
     "text": [
      "Logistic Regression Validation Accuracy: 0.9869339272457313\n",
      "Logistic Regression Validation F1-score: 0.9863819251005881\n",
      "\n",
      "Classification Report:\n",
      "               precision    recall  f1-score   support\n",
      "\n",
      "           0       0.99      0.98      0.99      3522\n",
      "           1       0.98      0.99      0.99      3213\n",
      "\n",
      "    accuracy                           0.99      6735\n",
      "   macro avg       0.99      0.99      0.99      6735\n",
      "weighted avg       0.99      0.99      0.99      6735\n",
      "\n",
      "Confusion Matrix:\n",
      " [[3460   62]\n",
      " [  26 3187]]\n"
     ]
    }
   ],
   "source": [
    "# Baseline model: Logistic Regression\n",
    "from sklearn.linear_model import LogisticRegression\n",
    "\n",
    "# Instantiate and train\n",
    "lr = LogisticRegression(max_iter=1000)\n",
    "lr.fit(X_train, y_train)\n",
    "\n",
    "# Predict on validation set\n",
    "y_pred_lr = lr.predict(X_val)\n",
    "\n",
    "# Metrics\n",
    "print(\"Logistic Regression Validation Accuracy:\", accuracy_score(y_val, y_pred_lr))\n",
    "print(\"Logistic Regression Validation F1-score:\", f1_score(y_val, y_pred_lr))\n",
    "print(\"\\nClassification Report:\\n\", classification_report(y_val, y_pred_lr))\n",
    "print(\"Confusion Matrix:\\n\", confusion_matrix(y_val, y_pred_lr))\n"
   ]
  },
  {
   "cell_type": "code",
   "execution_count": 13,
   "id": "ed963e22",
   "metadata": {},
   "outputs": [
    {
     "name": "stdout",
     "output_type": "stream",
     "text": [
      "Fitting 5 folds for each of 8 candidates, totalling 40 fits\n",
      "Best params: {'C': 10, 'penalty': 'l1', 'solver': 'liblinear'}\n",
      "Best CV F1-score: 0.9941631104663351\n"
     ]
    }
   ],
   "source": [
    "from sklearn.model_selection import GridSearchCV\n",
    "\n",
    "# Define parameter grid\n",
    "param_grid = {\n",
    "    'C': [0.01, 0.1, 1, 10],\n",
    "    'penalty': ['l1', 'l2'],\n",
    "    'solver': ['liblinear'],   # compatible con l1 y l2\n",
    "}\n",
    "\n",
    "# Set up GridSearchCV\n",
    "grid_lr = GridSearchCV(\n",
    "    estimator=LogisticRegression(max_iter=1000),\n",
    "    param_grid=param_grid,\n",
    "    scoring='f1',\n",
    "    cv=5,\n",
    "    n_jobs=-1,\n",
    "    verbose=1\n",
    ")\n",
    "\n",
    "# Run grid search\n",
    "grid_lr.fit(X_train, y_train)\n",
    "\n",
    "# Best parameters and score\n",
    "print(\"Best params:\", grid_lr.best_params_)\n",
    "print(\"Best CV F1-score:\", grid_lr.best_score_)\n"
   ]
  },
  {
   "cell_type": "code",
   "execution_count": 14,
   "id": "4d0047c9",
   "metadata": {},
   "outputs": [
    {
     "name": "stdout",
     "output_type": "stream",
     "text": [
      "Tuned LR Validation F1-score: 0.9961053123539492\n",
      "Tuned LR Test Accuracy: 0.9965850037119525\n",
      "Tuned LR Test F1-score: 0.9964168873656333\n",
      "\n",
      "Test Classification Report:\n",
      "               precision    recall  f1-score   support\n",
      "\n",
      "           0       1.00      1.00      1.00      3523\n",
      "           1       1.00      1.00      1.00      3212\n",
      "\n",
      "    accuracy                           1.00      6735\n",
      "   macro avg       1.00      1.00      1.00      6735\n",
      "weighted avg       1.00      1.00      1.00      6735\n",
      "\n"
     ]
    }
   ],
   "source": [
    "# Use the best estimator from grid search\n",
    "best_lr = grid_lr.best_estimator_\n",
    "\n",
    "# Validation metrics\n",
    "y_val_pred = best_lr.predict(X_val)\n",
    "print(\"Tuned LR Validation F1-score:\", f1_score(y_val, y_val_pred))\n",
    "\n",
    "# Test metrics\n",
    "y_test_pred = best_lr.predict(X_test)\n",
    "print(\"Tuned LR Test Accuracy:\", accuracy_score(y_test, y_test_pred))\n",
    "print(\"Tuned LR Test F1-score:\", f1_score(y_test, y_test_pred))\n",
    "print(\"\\nTest Classification Report:\\n\", classification_report(y_test, y_test_pred))\n"
   ]
  },
  {
   "cell_type": "code",
   "execution_count": 15,
   "id": "00952082",
   "metadata": {},
   "outputs": [
    {
     "data": {
      "image/png": "[encoded data removed]",
      "text/plain": [
       "<Figure size 640x480 with 2 Axes>"
      ]
     },
     "metadata": {},
     "output_type": "display_data"
    },
    {
     "data": {
      "image/png": "[encoded data removed]",
      "text/plain": [
       "<Figure size 640x480 with 1 Axes>"
      ]
     },
     "metadata": {},
     "output_type": "display_data"
    }
   ],
   "source": [
    "from sklearn.metrics import ConfusionMatrixDisplay, RocCurveDisplay, roc_curve, auc\n",
    "\n",
    "final_model = best_lr  # o rf, el que hayas elegido\n",
    "\n",
    "# 1) Confusion matrix (normalized)\n",
    "ConfusionMatrixDisplay.from_estimator(\n",
    "    final_model,\n",
    "    X_test,\n",
    "    y_test,\n",
    "    display_labels=['fake', 'real'],\n",
    "    cmap=plt.cm.Blues,\n",
    "    normalize='true'\n",
    ")\n",
    "plt.title(\"Normalized Confusion Matrix\")\n",
    "plt.show()\n",
    "\n",
    "# 2) ROC curve and AUC\n",
    "# First get probabilities and compute fpr/tpr/auc\n",
    "y_prob = final_model.predict_proba(X_test)[:, 1]\n",
    "fpr, tpr, _ = roc_curve(y_test, y_prob)\n",
    "roc_auc = auc(fpr, tpr)\n",
    "\n",
    "# Plot ROC\n",
    "plt.figure()\n",
    "plt.plot(fpr, tpr, label=f\"AUC = {roc_auc:.2f}\")\n",
    "plt.plot([0,1], [0,1], 'k--')\n",
    "plt.xlabel(\"False Positive Rate\")\n",
    "plt.ylabel(\"True Positive Rate\")\n",
    "plt.title(\"ROC Curve\")\n",
    "plt.legend(loc=\"lower right\")\n",
    "plt.show()\n"
   ]
  },
  {
   "cell_type": "code",
   "execution_count": 16,
   "id": "e78dde97",
   "metadata": {},
   "outputs": [],
   "source": [
    "import os\n",
    "\n",
    "# Create models directory if it doesn't exist\n",
    "os.makedirs('models', exist_ok=True)\n"
   ]
  },
  {
   "cell_type": "code",
   "execution_count": 17,
   "id": "0301412f",
   "metadata": {},
   "outputs": [
    {
     "data": {
      "text/plain": [
       "['models/final_fake_news_model.joblib']"
      ]
     },
     "execution_count": 17,
     "metadata": {},
     "output_type": "execute_result"
    }
   ],
   "source": [
    "import joblib\n",
    "\n",
    "# Save TF-IDF vectorizer\n",
    "joblib.dump(tfidf, 'models/tfidf_vectorizer.joblib')\n",
    "\n",
    "# Save final model\n",
    "joblib.dump(final_model, 'models/final_fake_news_model.joblib')\n"
   ]
  }
 ],
 "metadata": {
  "kernelspec": {
   "display_name": "Python 3 (ipykernel)",
   "language": "python",
   "name": "python3"
  },
  "language_info": {
   "codemirror_mode": {
    "name": "ipython",
    "version": 3
   },
   "file_extension": ".py",
   "mimetype": "text/x-python",
   "name": "python",
   "nbconvert_exporter": "python",
   "pygments_lexer": "ipython3",
   "version": "3.13.5"
  }
 },
 "nbformat": 4,
 "nbformat_minor": 5
}
